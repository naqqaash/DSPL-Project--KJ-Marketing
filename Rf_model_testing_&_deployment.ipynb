{
  "nbformat": 4,
  "nbformat_minor": 0,
  "metadata": {
    "colab": {
      "provenance": [],
      "authorship_tag": "ABX9TyNJac08uPvVw4EQXz4BVxTa",
      "include_colab_link": true
    },
    "kernelspec": {
      "name": "python3",
      "display_name": "Python 3"
    },
    "language_info": {
      "name": "python"
    }
  },
  "cells": [
    {
      "cell_type": "markdown",
      "metadata": {
        "id": "view-in-github",
        "colab_type": "text"
      },
      "source": [
        "<a href=\"https://colab.research.google.com/github/naqqaash/DSPL-Project--KJ-Marketing/blob/main/Rf_model_testing_%26_deployment.ipynb\" target=\"_parent\"><img src=\"https://colab.research.google.com/assets/colab-badge.svg\" alt=\"Open In Colab\"/></a>"
      ]
    },
    {
      "cell_type": "code",
      "source": [
        "\n",
        "import pandas as pd\n",
        "import numpy as np\n",
        "from sklearn.model_selection import train_test_split\n",
        "from sklearn.preprocessing import StandardScaler\n",
        "from imblearn.over_sampling import SMOTE\n",
        "\n",
        "\n",
        "df = pd.read_csv(\"/content/processed_data.csv\")\n",
        "\n",
        "\n",
        "df.dropna(subset=['cluster_catgeory'], inplace=True)\n",
        "df.fillna(df.median(numeric_only=True), inplace=True)\n",
        "\n",
        "\n",
        "X = df.drop(columns=['cluster_catgeory'])\n",
        "y = df['cluster_catgeory']\n",
        "\n",
        "\n",
        "min_samples = 3\n",
        "class_counts = y.value_counts()\n",
        "valid_classes = class_counts[class_counts >= min_samples].index\n",
        "df = df[df['cluster_catgeory'].isin(valid_classes)]\n",
        "\n",
        "X = df.drop(columns=['cluster_catgeory'])\n",
        "y = df['cluster_catgeory']\n",
        "\n",
        "\n",
        "smallest_class_size = y.value_counts().min()\n",
        "k_value = min(5, smallest_class_size - 1)\n",
        "if k_value >= 1:\n",
        "    smote = SMOTE(random_state=42, k_neighbors=k_value)\n",
        "    X_resampled, y_resampled = smote.fit_resample(X, y)\n",
        "else:\n",
        "    X_resampled, y_resampled = X, y\n",
        "\n",
        "\n",
        "X_train, X_test, y_train, y_test = train_test_split(\n",
        "    X_resampled, y_resampled, test_size=0.2, random_state=42, stratify=y_resampled\n",
        ")\n",
        "\n",
        "\n",
        "scaler = StandardScaler()\n",
        "X_train = scaler.fit_transform(X_train)\n",
        "X_test = scaler.transform(X_test)\n",
        "\n",
        "print(\"✅ Data Preprocessing Complete! Ready for Model Training.\")\n"
      ],
      "metadata": {
        "colab": {
          "base_uri": "https://localhost:8080/"
        },
        "id": "Sz17qGsLfPfc",
        "outputId": "af26fa04-3c9d-400b-feb0-421b78b5f113"
      },
      "execution_count": null,
      "outputs": [
        {
          "output_type": "stream",
          "name": "stdout",
          "text": [
            "✅ Data Preprocessing Complete! Ready for Model Training.\n"
          ]
        }
      ]
    },
    {
      "cell_type": "code",
      "source": [
        "\n",
        "from sklearn.ensemble import RandomForestClassifier\n",
        "from sklearn.model_selection import RandomizedSearchCV\n",
        "from sklearn.metrics import accuracy_score, classification_report, confusion_matrix\n",
        "\n",
        "\n",
        "param_dist = {\n",
        "    'n_estimators': [50, 100, 200],\n",
        "    'max_depth': [None, 10, 20],\n",
        "    'min_samples_split': [2, 5, 10],\n",
        "    'min_samples_leaf': [1, 2, 4]\n",
        "}\n",
        "\n",
        "\n",
        "rf_model = RandomForestClassifier(random_state=42)\n",
        "\n",
        "\n",
        "random_search = RandomizedSearchCV(\n",
        "    estimator=rf_model,\n",
        "    param_distributions=param_dist,\n",
        "    n_iter=10,\n",
        "    cv=3,\n",
        "    scoring='accuracy',\n",
        "    n_jobs=-1,\n",
        "    random_state=42\n",
        ")\n",
        "\n",
        "random_search.fit(X_train, y_train)\n",
        "best_params = random_search.best_params_\n",
        "print(\"🔥 Best Hyperparameters:\", best_params)\n",
        "\n",
        "\n",
        "best_rf_model = RandomForestClassifier(random_state=42, **best_params)\n",
        "best_rf_model.fit(X_train, y_train)\n",
        "\n",
        "\n",
        "y_pred = best_rf_model.predict(X_test)\n",
        "\n",
        "print(\"\\n✅ Model Evaluation:\")\n",
        "print(\"📊 Accuracy:\", accuracy_score(y_test, y_pred))\n",
        "print(\"\\n🔍 Classification Report:\\n\", classification_report(y_test, y_pred))\n",
        "print(\"\\n📌 Confusion Matrix:\\n\", confusion_matrix(y_test, y_pred))"
      ],
      "metadata": {
        "colab": {
          "base_uri": "https://localhost:8080/"
        },
        "id": "4PACBS-Ng5gv",
        "outputId": "3cf3bdc2-eece-4b46-d737-cc11810906e5"
      },
      "execution_count": null,
      "outputs": [
        {
          "output_type": "stream",
          "name": "stdout",
          "text": [
            "🔥 Best Hyperparameters: {'n_estimators': 100, 'min_samples_split': 5, 'min_samples_leaf': 1, 'max_depth': None}\n",
            "\n",
            "✅ Model Evaluation:\n",
            "📊 Accuracy: 0.9997795239481088\n",
            "\n",
            "🔍 Classification Report:\n",
            "               precision    recall  f1-score   support\n",
            "\n",
            "         1.0       1.00      1.00      1.00     37797\n",
            "         2.0       1.00      1.00      1.00     37797\n",
            "         3.0       1.00      1.00      1.00     37797\n",
            "         4.0       1.00      1.00      1.00     37797\n",
            "         5.0       1.00      1.00      1.00     37797\n",
            "         6.0       1.00      1.00      1.00     37797\n",
            "\n",
            "    accuracy                           1.00    226782\n",
            "   macro avg       1.00      1.00      1.00    226782\n",
            "weighted avg       1.00      1.00      1.00    226782\n",
            "\n",
            "\n",
            "📌 Confusion Matrix:\n",
            " [[37786     1     1     8     0     1]\n",
            " [    1 37791     0     1     3     1]\n",
            " [    1     0 37793     2     1     0]\n",
            " [    0     2     2 37790     2     1]\n",
            " [    0     6     3     6 37781     1]\n",
            " [    0     4     0     0     2 37791]]\n"
          ]
        }
      ]
    },
    {
      "cell_type": "code",
      "source": [
        "\n",
        "import joblib\n",
        "from sklearn.ensemble import RandomForestClassifier\n",
        "\n",
        "\n",
        "best_rf_model = RandomForestClassifier(n_estimators=100, max_depth=None, random_state=42)\n",
        "best_rf_model.fit(X_train, y_train)\n",
        "\n",
        "\n",
        "joblib.dump(best_rf_model, \"random_forest_model.pkl\")\n",
        "joblib.dump(scaler, \"scaler.pkl\")\n",
        "\n",
        "print(\"✅ Model training complete and saved successfully!\")\n"
      ],
      "metadata": {
        "colab": {
          "base_uri": "https://localhost:8080/"
        },
        "id": "1rVSbnYjpzrX",
        "outputId": "dec30178-70dd-43f5-ea98-a372d2fb63fb"
      },
      "execution_count": null,
      "outputs": [
        {
          "output_type": "stream",
          "name": "stdout",
          "text": [
            "✅ Model training complete and saved successfully!\n"
          ]
        }
      ]
    },
    {
      "cell_type": "code",
      "source": [
        "\n",
        "import pandas as pd\n",
        "import joblib\n",
        "\n",
        "\n",
        "test_df = pd.read_csv(\"test.csv\")\n",
        "\n",
        "\n",
        "test_df.fillna(test_df.median(numeric_only=True), inplace=True)\n",
        "\n",
        "\n",
        "best_rf_model = joblib.load(\"random_forest_model.pkl\")\n",
        "scaler = joblib.load(\"scaler.pkl\")\n",
        "\n",
        "for col in test_df.select_dtypes(include=['object']).columns:\n",
        "    try:\n",
        "        test_df[col] = pd.to_numeric(test_df[col], errors='coerce')\n",
        "    except Exception as e:\n",
        "        print(f\"Error in column {col}: {e}\")\n",
        "\n",
        "\n",
        "test_df.fillna(test_df.median(numeric_only=True), inplace=True)\n",
        "\n",
        "\n",
        "missing_cols = set(X.columns) - set(test_df.columns)\n",
        "for col in missing_cols:\n",
        "    test_df[col] = 0\n",
        "\n",
        "\n",
        "test_df = test_df[X.columns]\n",
        "\n",
        "\n",
        "X_test_final = scaler.transform(test_df)\n",
        "\n",
        "\n",
        "y_pred_test = best_rf_model.predict(X_test_final)\n",
        "\n",
        "\n",
        "test_df['Predicted_Cluster_Category'] = y_pred_test\n",
        "test_df.to_csv(\"test_with_predictions.csv\", index=False)\n",
        "\n",
        "\n",
        "print(\"\\n✅ Predictions saved to 'test_with_predictions.csv'\")\n",
        "print(\"\\n🔹 First 5 Predictions:\", y_pred_test[:5])\n",
        "print(\"\\n🔹 Predicted Class Distribution:\\n\", pd.Series(y_pred_test).value_counts())\n"
      ],
      "metadata": {
        "colab": {
          "base_uri": "https://localhost:8080/"
        },
        "id": "zcnWB2myr74l",
        "outputId": "834ba4fe-d830-455a-c854-07260eef2874"
      },
      "execution_count": null,
      "outputs": [
        {
          "output_type": "stream",
          "name": "stdout",
          "text": [
            "\n",
            "✅ Predictions saved to 'test_with_predictions.csv'\n",
            "\n",
            "🔹 First 5 Predictions: [3. 3. 3. 3. 3.]\n",
            "\n",
            "🔹 Predicted Class Distribution:\n",
            " 3.0    40749\n",
            "Name: count, dtype: int64\n"
          ]
        }
      ]
    },
    {
      "cell_type": "code",
      "source": [
        "from flask import Flask, request, jsonify\n",
        "import joblib\n",
        "import pandas as pd\n",
        "\n",
        "\n",
        "model = joblib.load(\"random_forest_model.pkl\")\n",
        "scaler = joblib.load(\"scaler.pkl\")\n",
        "\n",
        "\n",
        "app = Flask(__name__)\n",
        "\n",
        "@app.route(\"/\")\n",
        "def home():\n",
        "    return \"RF Model API is running!\"\n",
        "\n",
        "@app.route(\"/predict\", methods=[\"POST\"])\n",
        "def predict():\n",
        "    try:\n",
        "\n",
        "        data = request.get_json()\n",
        "\n",
        "\n",
        "        df = pd.DataFrame(data)\n",
        "\n",
        "\n",
        "        expected_features = model.feature_names_in_\n",
        "        for col in expected_features:\n",
        "            if col not in df:\n",
        "                df[col] = 0\n",
        "\n",
        "\n",
        "        X_scaled = scaler.transform(df[expected_features])\n",
        "\n",
        "\n",
        "        predictions = model.predict(X_scaled)\n",
        "\n",
        "\n",
        "        return jsonify({\"predictions\": predictions.tolist()})\n",
        "\n",
        "    except Exception as e:\n",
        "        return jsonify({\"error\": str(e)})\n",
        "\n",
        "if __name__ == \"__main__\":\n",
        "    app.run(debug=True)\n"
      ],
      "metadata": {
        "colab": {
          "base_uri": "https://localhost:8080/"
        },
        "id": "jrnMKiuOt4DW",
        "outputId": "f0dec998-c076-4e86-a7a6-a9e6329a5ab5"
      },
      "execution_count": null,
      "outputs": [
        {
          "output_type": "stream",
          "name": "stdout",
          "text": [
            " * Serving Flask app '__main__'\n",
            " * Debug mode: on\n"
          ]
        },
        {
          "output_type": "stream",
          "name": "stderr",
          "text": [
            "INFO:werkzeug:\u001b[31m\u001b[1mWARNING: This is a development server. Do not use it in a production deployment. Use a production WSGI server instead.\u001b[0m\n",
            " * Running on http://127.0.0.1:5000\n",
            "INFO:werkzeug:\u001b[33mPress CTRL+C to quit\u001b[0m\n",
            "INFO:werkzeug: * Restarting with stat\n"
          ]
        }
      ]
    }
  ]
}